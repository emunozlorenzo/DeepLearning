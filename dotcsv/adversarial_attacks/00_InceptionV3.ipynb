{
 "cells": [
  {
   "cell_type": "markdown",
   "metadata": {},
   "source": [
    "# Adversarial Attacks"
   ]
  },
  {
   "cell_type": "markdown",
   "metadata": {},
   "source": [
    "Notebook Steps:\n",
    "\n",
    "1. A pretrained nueronal network INCEPTION V3 is going to be used in order to classify more than 1000 differents kind of images. This NN has been trained using the famous dataset IMAGENET\n",
    "2. This pretrained model is going to be tested\n",
    "3. An Adversarial image is going to be developed to cheat the pretrained model"
   ]
  },
  {
   "cell_type": "code",
   "execution_count": 71,
   "metadata": {},
   "outputs": [],
   "source": [
    "import tensorflow as tf\n",
    "import keras\n",
    "import matplotlib.pyplot as plt\n",
    "import numpy as np\n",
    "from keras import backend as k\n",
    "from keras.preprocessing import image\n",
    "import pandas as pd"
   ]
  },
  {
   "cell_type": "markdown",
   "metadata": {},
   "source": [
    "## 1. Downloading INCEPTION V3"
   ]
  },
  {
   "cell_type": "code",
   "execution_count": 72,
   "metadata": {},
   "outputs": [],
   "source": [
    "from keras.applications.inception_v3 import InceptionV3, decode_predictions"
   ]
  },
  {
   "cell_type": "markdown",
   "metadata": {},
   "source": [
    "## 2. Load INCEPTION V3"
   ]
  },
  {
   "cell_type": "code",
   "execution_count": 73,
   "metadata": {},
   "outputs": [],
   "source": [
    "iv3 = InceptionV3()"
   ]
  },
  {
   "cell_type": "code",
   "execution_count": 74,
   "metadata": {},
   "outputs": [],
   "source": [
    "# How many and what kind of layers are there?\n",
    "#print(iv3.summary())"
   ]
  },
  {
   "cell_type": "markdown",
   "metadata": {},
   "source": [
    "## 3. Load an image from our computer"
   ]
  },
  {
   "cell_type": "code",
   "execution_count": 104,
   "metadata": {},
   "outputs": [
    {
     "name": "stdout",
     "output_type": "stream",
     "text": [
      "[[[246. 244. 245.]\n",
      "  [251. 252. 255.]\n",
      "  [  7.  10.  17.]\n",
      "  ...\n",
      "  [133. 169. 191.]\n",
      "  [255. 251. 253.]\n",
      "  [252. 255. 253.]]\n",
      "\n",
      " [[255. 254. 255.]\n",
      "  [245. 245. 247.]\n",
      "  [  7.   8.  12.]\n",
      "  ...\n",
      "  [134. 169. 191.]\n",
      "  [255. 251. 253.]\n",
      "  [252. 255. 253.]]]\n"
     ]
    }
   ],
   "source": [
    "# image.img_to_array: Converts a PIL image instance to a Numpy array.\n",
    "# image.load_img: Loads an image into PIL format.\n",
    "# Target size 299 X 299 Preprocessing\n",
    "x = image.img_to_array(image.load_img('../../img/car.jpeg',target_size=(299,299)))\n",
    "print(x[:2])"
   ]
  },
  {
   "cell_type": "code",
   "execution_count": 105,
   "metadata": {},
   "outputs": [],
   "source": [
    " # 3 Dimmensions Matrix: High, Width, pixel deepth"
   ]
  },
  {
   "cell_type": "markdown",
   "metadata": {},
   "source": [
    "## 4. Image Preprocessing"
   ]
  },
  {
   "cell_type": "code",
   "execution_count": 106,
   "metadata": {},
   "outputs": [
    {
     "name": "stdout",
     "output_type": "stream",
     "text": [
      "[[[ 0.92941177  0.9137255   0.92156863]\n",
      "  [ 0.96862745  0.9764706   1.        ]\n",
      "  [-0.94509804 -0.92156863 -0.8666667 ]\n",
      "  ...\n",
      "  [ 0.04313731  0.32549024  0.49803925]\n",
      "  [ 1.          0.96862745  0.9843137 ]\n",
      "  [ 0.9764706   1.          0.9843137 ]]\n",
      "\n",
      " [[ 1.          0.99215686  1.        ]\n",
      "  [ 0.92156863  0.92156863  0.9372549 ]\n",
      "  [-0.94509804 -0.9372549  -0.90588236]\n",
      "  ...\n",
      "  [ 0.05098045  0.32549024  0.49803925]\n",
      "  [ 1.          0.96862745  0.9843137 ]\n",
      "  [ 0.9764706   1.          0.9843137 ]]]\n"
     ]
    }
   ],
   "source": [
    "# Inception V3 requirements:\n",
    "# Shape: 299 x 299 px\n",
    "# Image Pixel from [0, 255] range to [-1, 1] range\n",
    "def preprocess_input(x): \n",
    "    x = np.divide(x, 255.0) \n",
    "    x = np.subtract(x, 0.5) \n",
    "    x = np.multiply(x, 2.0) \n",
    "    return x \n",
    "\n",
    "x = preprocess_input(x)\n",
    "print(x[:2])"
   ]
  },
  {
   "cell_type": "code",
   "execution_count": 107,
   "metadata": {},
   "outputs": [
    {
     "name": "stdout",
     "output_type": "stream",
     "text": [
      "(1, 299, 299, 3)\n"
     ]
    }
   ],
   "source": [
    "x = x.reshape([1,x.shape[0],x.shape[1],x.shape[2]]) # New Dimmension: First term is the number of images which you can classify\n",
    "print(x.shape)"
   ]
  },
  {
   "cell_type": "markdown",
   "metadata": {},
   "source": [
    "## 5. Predict"
   ]
  },
  {
   "cell_type": "code",
   "execution_count": 108,
   "metadata": {},
   "outputs": [],
   "source": [
    "y = iv3.predict(x)"
   ]
  },
  {
   "cell_type": "code",
   "execution_count": 109,
   "metadata": {},
   "outputs": [
    {
     "data": {
      "text/plain": [
       "(1, 1000)"
      ]
     },
     "execution_count": 109,
     "metadata": {},
     "output_type": "execute_result"
    }
   ],
   "source": [
    "y.shape # 1000 different Classes. We obtain a vector with all the probabilities"
   ]
  },
  {
   "cell_type": "code",
   "execution_count": 138,
   "metadata": {},
   "outputs": [
    {
     "name": "stdout",
     "output_type": "stream",
     "text": [
      "Prediction: sports_car, Probability 53.96 \n",
      "Prediction: car_wheel, Probability 8.32 \n",
      "Prediction: limousine, Probability 7.77 \n",
      "Prediction: minivan, Probability 6.08 \n",
      "Prediction: grille, Probability 3.79 \n"
     ]
    }
   ],
   "source": [
    "for i in decode_predictions(y)[0]:\n",
    "    print('Prediction: %s, Probability %s '%(i[1],round(i[2]*100,2)))"
   ]
  },
  {
   "cell_type": "code",
   "execution_count": null,
   "metadata": {},
   "outputs": [],
   "source": []
  }
 ],
 "metadata": {
  "kernelspec": {
   "display_name": "Python 3",
   "language": "python",
   "name": "python3"
  },
  "language_info": {
   "codemirror_mode": {
    "name": "ipython",
    "version": 3
   },
   "file_extension": ".py",
   "mimetype": "text/x-python",
   "name": "python",
   "nbconvert_exporter": "python",
   "pygments_lexer": "ipython3",
   "version": "3.6.9"
  }
 },
 "nbformat": 4,
 "nbformat_minor": 2
}
